{
  "nbformat": 4,
  "nbformat_minor": 0,
  "metadata": {
    "colab": {
      "name": "201911167_LinAlg4.1_Bruan",
      "provenance": [],
      "authorship_tag": "ABX9TyMr2pcJLeaj87x5ypjNJ9mF",
      "include_colab_link": true
    },
    "kernelspec": {
      "name": "python3",
      "display_name": "Python 3"
    }
  },
  "cells": [
    {
      "cell_type": "markdown",
      "metadata": {
        "id": "view-in-github",
        "colab_type": "text"
      },
      "source": [
        "<a href=\"https://colab.research.google.com/github/R0ckie/Laboratory-4/blob/main/201911167_LinAlg4_1_Bruan.ipynb\" target=\"_parent\"><img src=\"https://colab.research.google.com/assets/colab-badge.svg\" alt=\"Open In Colab\"/></a>"
      ]
    },
    {
      "cell_type": "markdown",
      "metadata": {
        "id": "O9HwnHY6d2h4"
      },
      "source": [
        "**Without Numpy presets**"
      ]
    },
    {
      "cell_type": "markdown",
      "metadata": {
        "id": "i22beY8KdzvH"
      },
      "source": [
        "**Task 2**"
      ]
    },
    {
      "cell_type": "code",
      "metadata": {
        "colab": {
          "base_uri": "https://localhost:8080/"
        },
        "id": "YPF3L4cUdvmb",
        "outputId": "a9b1d80e-2209-479b-9025-9872221058c4"
      },
      "source": [
        "K = [1,2,3,4,5]\n",
        "L = [6,7,8,9,10]\n",
        "D = [11,12,13,14,15]\n",
        "B = [16,17,18,19,20]\n",
        "A = [21,22,23,24,25]\n",
        "\n",
        "print(\"Dot Product of the first two vector: \")\n",
        "ivKL = ( (K[0] * L[0]) + (K[1] * L[1]) + (K[2] * L[2]) + (K[3] * L[3]) + (K[4] * L[4]) )\n",
        "print(ivKL)\n",
        "print(\"*************************************************\")\n",
        "\n",
        "print(\"Dot Product of the seconf two vector: \")\n",
        "ivLD = ( (L[0] * D[0]) + (L[1] * D[1]) + (L[2] * D[2]) + (L[3] * D[3]) + (L[4] * D[4]) )\n",
        "print(ivLD)\n",
        "print(\"*************************************************\")\n",
        "\n",
        "print(\"Dot Product of the third two vector: \")\n",
        "ivDB = ( (D[0] * B[0]) + (D[1] * B[1]) + (D[2] * B[2]) + (D[3] * B[3]) + (D[4] * B[4]) )\n",
        "print(ivDB)\n",
        "print(\"*************************************************\")\n",
        "\n",
        "print(\"Dot Product of the fourth two vector: \")\n",
        "ivBA = ( (B[0] * A[0]) + (B[1] * A[1]) + (B[2] * A[2]) + (B[3] * A[3]) + (B[4] * A[4]) )\n",
        "print(ivBA)\n",
        "print(\"*************************************************\")"
      ],
      "execution_count": 1,
      "outputs": [
        {
          "output_type": "stream",
          "text": [
            "Dot Product of the first two vector: \n",
            "130\n",
            "*************************************************\n",
            "Dot Product of the seconf two vector: \n",
            "530\n",
            "*************************************************\n",
            "Dot Product of the third two vector: \n",
            "1180\n",
            "*************************************************\n",
            "Dot Product of the fourth two vector: \n",
            "2080\n",
            "*************************************************\n"
          ],
          "name": "stdout"
        }
      ]
    },
    {
      "cell_type": "markdown",
      "metadata": {
        "id": "1RiR2BthgQU3"
      },
      "source": [
        "With Numpy presets"
      ]
    },
    {
      "cell_type": "code",
      "metadata": {
        "colab": {
          "base_uri": "https://localhost:8080/"
        },
        "id": "aKOqzjoVd9kY",
        "outputId": "6de43687-a815-44ab-8498-fbad6f6e24d3"
      },
      "source": [
        "import numpy as np\n",
        "\n",
        "K = np.array([1,2,3,4,5])\n",
        "L = np.array([6,7,8,9,10])\n",
        "D = np.array([11,12,13,14,15])\n",
        "B = np.array([16,17,18,19,20])\n",
        "A = np.array([21,22,23,24,25])\n",
        "\n",
        "print(\"*************************************************\")\n",
        "print(\"Dot Product of the first two vector: \")\n",
        "ivKL = np.inner(K,L)\n",
        "print(ivKL)\n",
        "print(\"*************************************************\")\n",
        "\n",
        "\n",
        "print(\"Dot Product of the second two vector: \")\n",
        "ivLD = np.inner(L,D)\n",
        "print(ivKL)\n",
        "print(\"*************************************************\")\n",
        "\n",
        "\n",
        "print(\"Dot Product of the third two vector: \")\n",
        "ivDB = np.inner(D,B)\n",
        "print(ivDB)\n",
        "print(\"*************************************************\")\n",
        "\n",
        "\n",
        "print(\"Dot Product of the fourth two vector: \")\n",
        "ivBA = np.inner(B,A)\n",
        "print(ivBA)\n",
        "print(\"*************************************************\")"
      ],
      "execution_count": 2,
      "outputs": [
        {
          "output_type": "stream",
          "text": [
            "*************************************************\n",
            "Dot Product of the first two vector: \n",
            "130\n",
            "*************************************************\n",
            "Dot Product of the second two vector: \n",
            "130\n",
            "*************************************************\n",
            "Dot Product of the third two vector: \n",
            "1180\n",
            "*************************************************\n",
            "Dot Product of the fourth two vector: \n",
            "2080\n",
            "*************************************************\n"
          ],
          "name": "stdout"
        }
      ]
    }
  ]
}