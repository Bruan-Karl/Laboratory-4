{
  "nbformat": 4,
  "nbformat_minor": 0,
  "metadata": {
    "colab": {
      "name": "201911167_LinAlg4.1_Bruan",
      "provenance": [],
      "authorship_tag": "ABX9TyN7ZHUO4KSfGUOposNv+6an",
      "include_colab_link": true
    },
    "kernelspec": {
      "name": "python3",
      "display_name": "Python 3"
    }
  },
  "cells": [
    {
      "cell_type": "markdown",
      "metadata": {
        "id": "view-in-github",
        "colab_type": "text"
      },
      "source": [
        "<a href=\"https://colab.research.google.com/github/R0ckie/Laboratory-4/blob/main/201911167_LinAlg4_1_Bruan.ipynb\" target=\"_parent\"><img src=\"https://colab.research.google.com/assets/colab-badge.svg\" alt=\"Open In Colab\"/></a>"
      ]
    },
    {
      "cell_type": "markdown",
      "metadata": {
        "id": "i22beY8KdzvH"
      },
      "source": [
        "**Task 2**"
      ]
    },
    {
      "cell_type": "markdown",
      "metadata": {
        "id": "1RiR2BthgQU3"
      },
      "source": [
        "With Numpy presets"
      ]
    },
    {
      "cell_type": "code",
      "metadata": {
        "colab": {
          "base_uri": "https://localhost:8080/"
        },
        "id": "aKOqzjoVd9kY",
        "outputId": "6de43687-a815-44ab-8498-fbad6f6e24d3"
      },
      "source": [
        "import numpy as np\n",
        "\n",
        "K = np.array([1,2,3,4,5])\n",
        "L = np.array([6,7,8,9,10])\n",
        "D = np.array([11,12,13,14,15])\n",
        "B = np.array([16,17,18,19,20])\n",
        "A = np.array([21,22,23,24,25])\n",
        "\n",
        "print(\"*************************************************\")\n",
        "print(\"Dot Product of the first two vector: \")\n",
        "ivKL = np.inner(K,L)\n",
        "print(ivKL)\n",
        "print(\"*************************************************\")\n",
        "\n",
        "\n",
        "print(\"Dot Product of the second two vector: \")\n",
        "ivLD = np.inner(L,D)\n",
        "print(ivKL)\n",
        "print(\"*************************************************\")\n",
        "\n",
        "\n",
        "print(\"Dot Product of the third two vector: \")\n",
        "ivDB = np.inner(D,B)\n",
        "print(ivDB)\n",
        "print(\"*************************************************\")\n",
        "\n",
        "\n",
        "print(\"Dot Product of the fourth two vector: \")\n",
        "ivBA = np.inner(B,A)\n",
        "print(ivBA)\n",
        "print(\"*************************************************\")"
      ],
      "execution_count": null,
      "outputs": [
        {
          "output_type": "stream",
          "text": [
            "*************************************************\n",
            "Dot Product of the first two vector: \n",
            "130\n",
            "*************************************************\n",
            "Dot Product of the second two vector: \n",
            "130\n",
            "*************************************************\n",
            "Dot Product of the third two vector: \n",
            "1180\n",
            "*************************************************\n",
            "Dot Product of the fourth two vector: \n",
            "2080\n",
            "*************************************************\n"
          ],
          "name": "stdout"
        }
      ]
    },
    {
      "cell_type": "markdown",
      "metadata": {
        "id": "O9HwnHY6d2h4"
      },
      "source": [
        "**Without Numpy presets**"
      ]
    },
    {
      "cell_type": "code",
      "metadata": {
        "colab": {
          "base_uri": "https://localhost:8080/"
        },
        "id": "YPF3L4cUdvmb",
        "outputId": "9522a673-6703-4328-d1c3-3d9bf65ddf12"
      },
      "source": [
        "K = [1,2,3,4,5]   #vectors\n",
        "L = [6,7,8,9,10]\n",
        "D = [11,12,13,14,15]\n",
        "B = [16,17,18,19,20]\n",
        "A = [21,22,23,24,25]\n",
        "\n",
        "def dot(K,L):                                     #function\n",
        "    return sum(x*y for x,y in zip(K,L))\n",
        "\n",
        "def dot(L,D):\n",
        "    return sum(x*y for x,y in zip(L,D))\n",
        "\n",
        "def dot(D,B):\n",
        "    return sum(x*y for x,y in zip(D,B))\n",
        "\n",
        "def dot(B,A):\n",
        "    return sum(x*y for x,y in zip(B,A))\n",
        "\n",
        "\n",
        "\n",
        "print(\"The first two vectors are: \" , K, \"and\" , L)\n",
        "print(\"The dot product of the first vector is\", dot(K,L))\n",
        "print(\"*************************************\")\n",
        "\n",
        "print(\"The second two vectors are: \" , L, \"and\" , D)\n",
        "print(\"The dot product of the first vector is\", dot(L,D))\n",
        "print(\"*************************************\")\n",
        "\n",
        "print(\"The third two vectors are: \" , D, \"and\" , B)\n",
        "print(\"The dot product of the first vector is\", dot(D,B))\n",
        "print(\"*************************************\")\n",
        "\n",
        "print(\"The fourth two vectors are: \" , B, \"and\" , A)\n",
        "print(\"The dot product of the first vector is\", dot(B,A))\n",
        "print(\"*************************************\")\n"
      ],
      "execution_count": null,
      "outputs": [
        {
          "output_type": "stream",
          "text": [
            "The first two vectors are:  [1, 2, 3, 4, 5] and [6, 7, 8, 9, 10]\n",
            "The dot product of the first vector is 130\n",
            "*************************************\n",
            "The second two vectors are:  [6, 7, 8, 9, 10] and [11, 12, 13, 14, 15]\n",
            "The dot product of the first vector is 530\n",
            "*************************************\n",
            "The third two vectors are:  [11, 12, 13, 14, 15] and [16, 17, 18, 19, 20]\n",
            "The dot product of the first vector is 1180\n",
            "*************************************\n",
            "The fourth two vectors are:  [16, 17, 18, 19, 20] and [21, 22, 23, 24, 25]\n",
            "The dot product of the first vector is 2080\n",
            "*************************************\n"
          ],
          "name": "stdout"
        }
      ]
    }
  ]
}