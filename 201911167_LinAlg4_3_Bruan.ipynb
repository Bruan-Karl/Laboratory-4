{
  "nbformat": 4,
  "nbformat_minor": 0,
  "metadata": {
    "colab": {
      "name": "201911167_LinAlg4.3_Bruan",
      "provenance": [],
      "authorship_tag": "ABX9TyMdYm1mK/akOCdYNvK3LsgB",
      "include_colab_link": true
    },
    "kernelspec": {
      "name": "python3",
      "display_name": "Python 3"
    }
  },
  "cells": [
    {
      "cell_type": "markdown",
      "metadata": {
        "id": "view-in-github",
        "colab_type": "text"
      },
      "source": [
        "<a href=\"https://colab.research.google.com/github/R0ckie/Laboratory-4/blob/main/201911167_LinAlg4_3_Bruan.ipynb\" target=\"_parent\"><img src=\"https://colab.research.google.com/assets/colab-badge.svg\" alt=\"Open In Colab\"/></a>"
      ]
    },
    {
      "cell_type": "code",
      "metadata": {
        "colab": {
          "base_uri": "https://localhost:8080/",
          "height": 303
        },
        "id": "isA3LFeVau_H",
        "outputId": "e26de0cd-a757-44e5-80cc-a90a4976f1a1"
      },
      "source": [
        "import numpy as np\n",
        "import matplotlib.pyplot as plt\n",
        "\n",
        "a= np.array([-0.4 , 4.3 , -0.6 ])\n",
        "b = np.array([-0.2 , 0.2, 1])\n",
        "c = np.array([-0.2, 2.1, -1.5])\n",
        "\n",
        "answer = ((np.square(a) + np.square(b) + np.square(c)) * (np.divide(np.multiply(a,(np.add(b, (np.multiply(a,b))))),c)))*(np.linalg.norm(a+b+c))\n",
        "print('(A**2 + B**2 + C**2)*(A*(B+A*B)/C)*||A + B + C||=',answer)\n",
        "\n",
        "plt.quiver(a[0], a[1], b[0], b[1], angles='xy', scale_units='xy', scale=1, color='yellow')\n",
        "plt.quiver(a[0] + b[0], a[1] + b[1], c[0], c[1], angles='xy', scale_units='xy', scale=1, color='violet')\n",
        "d = b + c\n",
        "plt.quiver(a[0], a[1], d[0], d[1] ,angles='xy', scale_units='xy', scale=1, color='black')\n",
        "\n",
        "R_mag = np.sqrt(np.sum(b**2+c**2))\n",
        "rise = c[1]\n",
        "run = c[0]\n",
        "slope = rise/run\n",
        "print('The slope is: ',slope)\n",
        "plt.xlim(-5,9)\n",
        "plt.ylim(4,7.5)\n",
        "\n",
        "plt.grid()\n",
        "plt.show()\n"
      ],
      "execution_count": 1,
      "outputs": [
        {
          "output_type": "stream",
          "text": [
            "(A**2 + B**2 + C**2)*(A*(B+A*B)/C)*||A + B + C||= [ -0.38814879 335.52446352   3.89226979]\n",
            "The slope is:  -10.5\n"
          ],
          "name": "stdout"
        },
        {
          "output_type": "display_data",
          "data": {
            "image/png": "[encoded data removed]",
            "text/plain": [
              "<Figure size 432x288 with 1 Axes>"
            ]
          },
          "metadata": {
            "tags": [],
            "needs_background": "light"
          }
        }
      ]
    }
  ]
}