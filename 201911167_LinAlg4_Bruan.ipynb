{
  "nbformat": 4,
  "nbformat_minor": 0,
  "metadata": {
    "colab": {
      "name": "201911167_LinAlg4_Bruan",
      "provenance": [],
      "collapsed_sections": [],
      "authorship_tag": "ABX9TyPL6qOUITpBsGA0qmYSbwal",
      "include_colab_link": true
    },
    "kernelspec": {
      "name": "python3",
      "display_name": "Python 3"
    }
  },
  "cells": [
    {
      "cell_type": "markdown",
      "metadata": {
        "id": "view-in-github",
        "colab_type": "text"
      },
      "source": [
        "<a href=\"https://colab.research.google.com/github/R0ckie/Laboratory-4/blob/main/201911167_LinAlg4_Bruan.ipynb\" target=\"_parent\"><img src=\"https://colab.research.google.com/assets/colab-badge.svg\" alt=\"Open In Colab\"/></a>"
      ]
    },
    {
      "cell_type": "markdown",
      "metadata": {
        "id": "_llmpinBSE8_"
      },
      "source": [
        "**TASK 1**"
      ]
    },
    {
      "cell_type": "markdown",
      "metadata": {
        "id": "xRaoL8O6vpB1"
      },
      "source": [
        "With numpy preset function"
      ]
    },
    {
      "cell_type": "code",
      "metadata": {
        "colab": {
          "base_uri": "https://localhost:8080/"
        },
        "id": "-Yt3ueLpc8ZJ",
        "outputId": "e2ffdb85-3bf0-4e70-cb09-6fbb10aec8fb"
      },
      "source": [
        "import numpy as np\n",
        "\n",
        "K = np.array([1,2,3,4])\n",
        "L = np.array([5,6,7,8])\n",
        "D = np.array([9,10,11,12])\n",
        "B = np.array([13,14,15,16])\n",
        "A = np.array([17,18,19,20])\n",
        "Q = np.array([21,22,23,24])\n",
        "\n",
        "print(\"The first vectors are: \" , K)\n",
        "print(\"The modulus of the first vector is \", np.linalg.norm(K))\n",
        "print(\"**********************\")\n",
        "\n",
        "print(\"The second vectors are: \" , L)\n",
        "print(\"The modulus of the second vector is \", np.linalg.norm(L))\n",
        "print(\"**********************\")\n",
        "\n",
        "print(\"The third vectors are: \" , D)\n",
        "print(\"The modulus of the third vector is \", np.linalg.norm(D))\n",
        "print(\"**********************\")\n",
        "\n",
        "print(\"The fourth vectors are: \" , B)\n",
        "print(\"The modulus of the fourth vector is \", np.linalg.norm(B))\n",
        "print(\"**********************\")\n",
        "\n",
        "print(\"The fifth vectors are: \" , A)\n",
        "print(\"The modulus of the fifth vector is \", np.linalg.norm(A))\n",
        "print(\"**********************\")\n",
        "\n",
        "print(\"The sixth vectors are: \" , Q)\n",
        "print(\"The modulus of the sixth vector is \", np.linalg.norm(Q))\n",
        "print(\"**********************\")\n"
      ],
      "execution_count": null,
      "outputs": [
        {
          "output_type": "stream",
          "text": [
            "The first vectors are:  [1 2 3 4]\n",
            "The modulus of the first vector is  5.477225575051661\n",
            "**********************\n",
            "The second vectors are:  [5 6 7 8]\n",
            "The modulus of the second vector is  13.19090595827292\n",
            "**********************\n",
            "The third vectors are:  [ 9 10 11 12]\n",
            "The modulus of the third vector is  21.118712081942874\n",
            "**********************\n",
            "The fourth vectors are:  [13 14 15 16]\n",
            "The modulus of the fourth vector is  29.086079144497972\n",
            "**********************\n",
            "The fifth vectors are:  [17 18 19 20]\n",
            "The modulus of the fifth vector is  37.067505985701274\n",
            "**********************\n",
            "The sixth vectors are:  [21 22 23 24]\n",
            "The modulus of the sixth vector is  45.05552130427524\n",
            "**********************\n"
          ],
          "name": "stdout"
        }
      ]
    },
    {
      "cell_type": "markdown",
      "metadata": {
        "id": "-ML--BBYvwFn"
      },
      "source": [
        "With Explicit function"
      ]
    },
    {
      "cell_type": "code",
      "metadata": {
        "colab": {
          "base_uri": "https://localhost:8080/"
        },
        "id": "zu6qREh8vSHy",
        "outputId": "09fd695a-dca0-481b-b9de-79950bb9f688"
      },
      "source": [
        "K = [(1,2,3,4)] ## vector1\n",
        "k = []\n",
        "\n",
        "## function\n",
        "for scalarsk in K:\n",
        "    for number in scalarsk:\n",
        "        vector1 = number ** 2\n",
        "        k.append(vector1)\n",
        "\n",
        "print(\"The first vectors are: \" , K)\n",
        "print(\"The modulus of the first vector: \", sum(k)**0.5)\n",
        "print(\"*************************************\")\n",
        "\n",
        "L = [(5,6,7,8)] #vector 2\n",
        "l = []\n",
        "\n",
        "for scalarsl in L:\n",
        "    for number in scalarsl:\n",
        "        vector2 = number ** 2\n",
        "        l.append(vector2)\n",
        "\n",
        "print(\"The second vectors are: \" , L)\n",
        "print(\"The modulus of the second vector: \", sum(l)**0.5)\n",
        "print(\"*************************************\")\n",
        "\n",
        "D = [(9,10,11,12)] #vector 3\n",
        "d = []\n",
        "\n",
        "for scalarsd in D:\n",
        "    for number in scalarsd:\n",
        "        vector3 = number ** 2\n",
        "        d.append(vector3)\n",
        "\n",
        "print(\"The third vectors are: \" , D)\n",
        "print(\"The modulus of the third vector: \", sum(d)**0.5)\n",
        "print(\"*************************************\")\n",
        "\n",
        "B = [(13,14,15,16)] #vector 4\n",
        "b = []\n",
        "\n",
        "for scalars in B:\n",
        "    for number in scalars:\n",
        "        vector4 = number ** 2\n",
        "        b.append(vector4)\n",
        "\n",
        "print(\"The fourth vectors are: \" , B)\n",
        "print(\"The modulus of the fourth vector: \", sum(b)**0.5)\n",
        "print(\"*************************************\")\n",
        "\n",
        "A = [(17,18,19,20)] #vector 5\n",
        "a = []\n",
        "\n",
        "for scalars in A:\n",
        "    for number in scalars:\n",
        "        vector5 = number ** 2\n",
        "        a.append(vector5)\n",
        "\n",
        "print(\"The fifth vectors are: \" , A)\n",
        "print(\"The modulus of the fifth vector: \", sum(a)**0.5)\n",
        "print(\"*************************************\")\n",
        "\n",
        "Q = [(21,22,23,24)] #vector 6\n",
        "q = []\n",
        "\n",
        "for scalars in Q:\n",
        "    for number in scalars:\n",
        "        vector6 = number ** 2\n",
        "        q.append(vector6)\n",
        "\n",
        "print(\"The first vectors are: \" , Q)\n",
        "print(\"The modulus of the first vector: \", sum(q)**0.5)\n",
        "print(\"*************************************\")\n"
      ],
      "execution_count": 1,
      "outputs": [
        {
          "output_type": "stream",
          "text": [
            "The first vectors are:  [(1, 2, 3, 4)]\n",
            "The modulus of the first vector:  5.477225575051661\n",
            "*************************************\n",
            "The second vectors are:  [(5, 6, 7, 8)]\n",
            "The modulus of the second vector:  13.19090595827292\n",
            "*************************************\n",
            "The third vectors are:  [(9, 10, 11, 12)]\n",
            "The modulus of the third vector:  21.118712081942874\n",
            "*************************************\n",
            "The fourth vectors are:  [(13, 14, 15, 16)]\n",
            "The modulus of the fourth vector:  29.086079144497972\n",
            "*************************************\n",
            "The fifth vectors are:  [(17, 18, 19, 20)]\n",
            "The modulus of the fifth vector:  37.067505985701274\n",
            "*************************************\n",
            "The first vectors are:  [(21, 22, 23, 24)]\n",
            "The modulus of the first vector:  45.05552130427524\n",
            "*************************************\n"
          ],
          "name": "stdout"
        }
      ]
    }
  ]
}