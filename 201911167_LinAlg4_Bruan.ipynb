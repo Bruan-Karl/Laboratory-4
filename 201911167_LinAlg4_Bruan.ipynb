{
  "nbformat": 4,
  "nbformat_minor": 0,
  "metadata": {
    "colab": {
      "name": "201911167_LinAlg4_Bruan",
      "provenance": [],
      "collapsed_sections": [],
      "authorship_tag": "ABX9TyMV/WVBLx0g+Laiqry/gZvD",
      "include_colab_link": true
    },
    "kernelspec": {
      "name": "python3",
      "display_name": "Python 3"
    }
  },
  "cells": [
    {
      "cell_type": "markdown",
      "metadata": {
        "id": "view-in-github",
        "colab_type": "text"
      },
      "source": [
        "<a href=\"https://colab.research.google.com/github/R0ckie/Laboratory-4/blob/main/201911167_LinAlg4_Bruan.ipynb\" target=\"_parent\"><img src=\"https://colab.research.google.com/assets/colab-badge.svg\" alt=\"Open In Colab\"/></a>"
      ]
    },
    {
      "cell_type": "markdown",
      "metadata": {
        "id": "xRaoL8O6vpB1"
      },
      "source": [
        "With numpy preset function"
      ]
    },
    {
      "cell_type": "code",
      "metadata": {
        "colab": {
          "base_uri": "https://localhost:8080/"
        },
        "id": "-Yt3ueLpc8ZJ",
        "outputId": "e2ffdb85-3bf0-4e70-cb09-6fbb10aec8fb"
      },
      "source": [
        "import numpy as np\n",
        "\n",
        "K = np.array([1,2,3,4])\n",
        "L = np.array([5,6,7,8])\n",
        "D = np.array([9,10,11,12])\n",
        "B = np.array([13,14,15,16])\n",
        "A = np.array([17,18,19,20])\n",
        "Q = np.array([21,22,23,24])\n",
        "\n",
        "print(\"The first vectors are: \" , K)\n",
        "print(\"The modulus of the first vector is \", np.linalg.norm(K))\n",
        "print(\"**********************\")\n",
        "\n",
        "print(\"The second vectors are: \" , L)\n",
        "print(\"The modulus of the second vector is \", np.linalg.norm(L))\n",
        "print(\"**********************\")\n",
        "\n",
        "print(\"The third vectors are: \" , D)\n",
        "print(\"The modulus of the third vector is \", np.linalg.norm(D))\n",
        "print(\"**********************\")\n",
        "\n",
        "print(\"The fourth vectors are: \" , B)\n",
        "print(\"The modulus of the fourth vector is \", np.linalg.norm(B))\n",
        "print(\"**********************\")\n",
        "\n",
        "print(\"The fifth vectors are: \" , A)\n",
        "print(\"The modulus of the fifth vector is \", np.linalg.norm(A))\n",
        "print(\"**********************\")\n",
        "\n",
        "print(\"The sixth vectors are: \" , Q)\n",
        "print(\"The modulus of the sixth vector is \", np.linalg.norm(Q))\n",
        "print(\"**********************\")\n"
      ],
      "execution_count": 13,
      "outputs": [
        {
          "output_type": "stream",
          "text": [
            "The first vectors are:  [1 2 3 4]\n",
            "The modulus of the first vector is  5.477225575051661\n",
            "**********************\n",
            "The second vectors are:  [5 6 7 8]\n",
            "The modulus of the second vector is  13.19090595827292\n",
            "**********************\n",
            "The third vectors are:  [ 9 10 11 12]\n",
            "The modulus of the third vector is  21.118712081942874\n",
            "**********************\n",
            "The fourth vectors are:  [13 14 15 16]\n",
            "The modulus of the fourth vector is  29.086079144497972\n",
            "**********************\n",
            "The fifth vectors are:  [17 18 19 20]\n",
            "The modulus of the fifth vector is  37.067505985701274\n",
            "**********************\n",
            "The sixth vectors are:  [21 22 23 24]\n",
            "The modulus of the sixth vector is  45.05552130427524\n",
            "**********************\n"
          ],
          "name": "stdout"
        }
      ]
    },
    {
      "cell_type": "markdown",
      "metadata": {
        "id": "-ML--BBYvwFn"
      },
      "source": [
        "With Explicit function"
      ]
    },
    {
      "cell_type": "code",
      "metadata": {
        "colab": {
          "base_uri": "https://localhost:8080/"
        },
        "id": "zu6qREh8vSHy",
        "outputId": "09f5be57-f018-4dfc-8f5a-19016a707c03"
      },
      "source": [
        "#import math as m\n",
        "\n",
        "K = [1,2,3,4]\n",
        "L = [5,6,7,8]\n",
        "D = [9,10,11,12]\n",
        "B = [13,14,15,16]\n",
        "A = [17,18,19,20]\n",
        "Q = [21,22,23,24]\n",
        "\n",
        "print(\"The first vectors are: \" , K)\n",
        "srK = K[0] **2 + K[1] **2 + K[2] **2 + K[3] **2\n",
        "EuclidianK = srK ** 0.5\n",
        "print(EuclidianK)\n",
        "print(\"*****************************************\")\n",
        "\n",
        "print(\"The second vectors are: \" , L)\n",
        "srL = L[0] **2 + L[1] **2 + L[2] **2 + L[3] **2\n",
        "EuclidianL = srL ** 0.5\n",
        "print(EuclidianL)\n",
        "print(\"*****************************************\")\n",
        "\n",
        "print(\"The third vectors are: \" , D)\n",
        "srD = D[0] **2 + D[1] **2 + D[2] **2 + D[3] **2\n",
        "EuclidianD = srD ** 0.5\n",
        "print(EuclidianD)\n",
        "print(\"*****************************************\")\n",
        "\n",
        "print(\"The fourth vectors are: \" , B)\n",
        "srB = B[0] **2 + B[1] **2 + B[2] **2 + B[3] **2\n",
        "EuclidianB = srB ** 0.5\n",
        "print(EuclidianB)\n",
        "print(\"*****************************************\")\n",
        "\n",
        "print(\"The fifth vectors are: \" , A)\n",
        "srA = A[0] **2 + A[1] **2 + A[2] **2 + A[3] **2\n",
        "EuclidianA = srA ** 0.5\n",
        "print(EuclidianA)\n",
        "print(\"*****************************************\")\n",
        "\n",
        "print(\"The fifth vectors are: \" , Q)\n",
        "srQ = Q[0] **2 + Q[1] **2 + Q[2] **2 + Q[3] **2\n",
        "EuclidianQ = srQ ** 0.5\n",
        "print(EuclidianQ)\n",
        "\n"
      ],
      "execution_count": 12,
      "outputs": [
        {
          "output_type": "stream",
          "text": [
            "The first vectors are:  [1, 2, 3, 4]\n",
            "5.477225575051661\n",
            "*****************************************\n",
            "The second vectors are:  [5, 6, 7, 8]\n",
            "13.19090595827292\n",
            "*****************************************\n",
            "The third vectors are:  [9, 10, 11, 12]\n",
            "21.118712081942874\n",
            "*****************************************\n",
            "The fourth vectors are:  [13, 14, 15, 16]\n",
            "29.086079144497972\n",
            "*****************************************\n",
            "The fifth vectors are:  [17, 18, 19, 20]\n",
            "37.067505985701274\n",
            "*****************************************\n",
            "The fifth vectors are:  [21, 22, 23, 24]\n",
            "45.05552130427524\n"
          ],
          "name": "stdout"
        }
      ]
    }
  ]
}